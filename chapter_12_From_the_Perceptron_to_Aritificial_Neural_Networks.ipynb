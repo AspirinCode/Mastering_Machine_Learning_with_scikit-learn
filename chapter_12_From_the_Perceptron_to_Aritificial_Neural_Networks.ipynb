{
 "cells": [
  {
   "cell_type": "code",
   "execution_count": 9,
   "metadata": {},
   "outputs": [],
   "source": [
    "from sklearn.model_selection import train_test_split\n",
    "from sklearn.neural_network import MLPClassifier\n",
    "from sklearn.datasets import load_digits\n",
    "from sklearn.model_selection import cross_val_score\n",
    "from sklearn.pipeline import Pipeline\n",
    "from sklearn.preprocessing import StandardScaler\n",
    "from sklearn.neural_network.multilayer_perceptron import MLPClassifier"
   ]
  },
  {
   "cell_type": "markdown",
   "metadata": {},
   "source": [
    "## 训练多层感知器去近似XOR"
   ]
  },
  {
   "cell_type": "code",
   "execution_count": 6,
   "metadata": {},
   "outputs": [
    {
     "name": "stdout",
     "output_type": "stream",
     "text": [
      "1.0\n",
      "True: 0, Predicted: 0\n",
      "True: 1, Predicted: 1\n",
      "True: 1, Predicted: 1\n",
      "True: 0, Predicted: 0\n"
     ]
    }
   ],
   "source": [
    "y = [0, 1, 1, 0]\n",
    "x = [[0, 0], [0, 1], [1, 0], [1,1]]\n",
    "mlpc = MLPClassifier( solver='lbfgs', activation='logistic', hidden_layer_sizes=(2,),\n",
    "                      random_state=20 )\n",
    "mlpc.fit(x, y)\n",
    "predictions = mlpc.predict(x)\n",
    "print( mlpc.score(x, y) )\n",
    "for i, p in enumerate( predictions ):\n",
    "    print( 'True: {}, Predicted: {}'.format( y[i], p) )\n",
    "    "
   ]
  },
  {
   "cell_type": "code",
   "execution_count": 23,
   "metadata": {},
   "outputs": [
    {
     "data": {
      "text/plain": [
       "'logistic'"
      ]
     },
     "execution_count": 23,
     "metadata": {},
     "output_type": "execute_result"
    }
   ],
   "source": [
    "mlpc.out_activation_"
   ]
  },
  {
   "cell_type": "code",
   "execution_count": 8,
   "metadata": {},
   "outputs": [
    {
     "name": "stdout",
     "output_type": "stream",
     "text": [
      "Weights connneting the input layer and the hidden layer:\n",
      "[[ 6.1180391   6.35656374]\n",
      " [ 5.79147885  6.14551941]]\n",
      "Hidden layer bias weights:[-9.38637931 -2.77751734]\n",
      "Weights connneting the hidden layer and the output layer:\n",
      "[[-14.95481859]\n",
      " [ 14.53080973]]\n",
      "Output layer bias weights:[-7.22845327]\n"
     ]
    }
   ],
   "source": [
    "print( 'Weights connneting the input layer and the hidden layer:\\n{}'.format(mlpc.coefs_[0] ) )\n",
    "print( 'Hidden layer bias weights: {}'.format(mlpc.intercepts_[0] ) )\n",
    "print( 'Weights connneting the hidden layer and the output layer:\\n{}'.format(mlpc.coefs_[1] ) )\n",
    "print( 'Output layer bias weights: {}'.format(mlpc.intercepts_[1] ) )"
   ]
  },
  {
   "cell_type": "markdown",
   "metadata": {},
   "source": [
    "## 训练多层感知器去分类手写数字"
   ]
  },
  {
   "cell_type": "code",
   "execution_count": 10,
   "metadata": {},
   "outputs": [
    {
     "name": "stdout",
     "output_type": "stream",
     "text": [
      "[ 0.95348837  0.96160267  0.90604027]\n"
     ]
    }
   ],
   "source": [
    "if __name__ == '__main__' :\n",
    "    digits = load_digits()\n",
    "    x = digits.data\n",
    "    y = digits.target\n",
    "    pipeline = Pipeline([\n",
    "        ('ss', StandardScaler()),\n",
    "        ('mlp', MLPClassifier(hidden_layer_sizes=(150, 100),\n",
    "                              alpha=0.1,\n",
    "                              max_iter=300,\n",
    "                              random_state=20) )\n",
    "    ])\n",
    "    print( cross_val_score(pipeline, x, y, n_jobs=-1) )"
   ]
  },
  {
   "cell_type": "code",
   "execution_count": 17,
   "metadata": {},
   "outputs": [
    {
     "ename": "NameError",
     "evalue": "name 'mlp' is not defined",
     "output_type": "error",
     "traceback": [
      "\u001b[1;31m---------------------------------------------------------------------------\u001b[0m",
      "\u001b[1;31mNameError\u001b[0m                                 Traceback (most recent call last)",
      "\u001b[1;32m<ipython-input-17-be91c86ec326>\u001b[0m in \u001b[0;36m<module>\u001b[1;34m()\u001b[0m\n\u001b[1;32m----> 1\u001b[1;33m \u001b[0mmlp\u001b[0m\u001b[1;33m.\u001b[0m\u001b[0mclasses_\u001b[0m\u001b[1;33m\u001b[0m\u001b[0m\n\u001b[0m",
      "\u001b[1;31mNameError\u001b[0m: name 'mlp' is not defined"
     ]
    }
   ],
   "source": [
    "mlp.classes_"
   ]
  }
 ],
 "metadata": {
  "kernelspec": {
   "display_name": "Python 3",
   "language": "python",
   "name": "python3"
  },
  "language_info": {
   "codemirror_mode": {
    "name": "ipython",
    "version": 3
   },
   "file_extension": ".py",
   "mimetype": "text/x-python",
   "name": "python",
   "nbconvert_exporter": "python",
   "pygments_lexer": "ipython3",
   "version": "3.5.4"
  }
 },
 "nbformat": 4,
 "nbformat_minor": 2
}
