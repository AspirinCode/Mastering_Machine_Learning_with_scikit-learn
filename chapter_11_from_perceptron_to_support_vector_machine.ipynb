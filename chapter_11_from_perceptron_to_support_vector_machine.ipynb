{
 "cells": [
  {
   "cell_type": "code",
   "execution_count": 8,
   "metadata": {
    "collapsed": true
   },
   "outputs": [],
   "source": [
    "import matplotlib.pyplot as plt\n",
    "from sklearn.datasets import fetch_mldata\n",
    "import matplotlib.cm as cm\n",
    "from sklearn.pipeline import Pipeline\n",
    "from sklearn.preprocessing import scale\n",
    "from sklearn.model_selection import train_test_split\n",
    "from sklearn.svm import SVC\n",
    "from sklearn.grid_search import GridSearchCV\n",
    "from sklearn.metrics import classification_report\n",
    "import os\n",
    "import numpy as np\n",
    "from PIL import Image"
   ]
  },
  {
   "cell_type": "markdown",
   "metadata": {},
   "source": [
    "## 分类手写数字"
   ]
  },
  {
   "cell_type": "code",
   "execution_count": 2,
   "metadata": {
    "collapsed": true
   },
   "outputs": [],
   "source": [
    "mnist = fetch_mldata( 'MNIST original', data_home='data/mnist' ) "
   ]
  },
  {
   "cell_type": "code",
   "execution_count": 4,
   "metadata": {},
   "outputs": [
    {
     "data": {
      "text/plain": [
       "{'COL_NAMES': ['label', 'data'],\n",
       " 'DESCR': 'mldata.org dataset: mnist-original',\n",
       " 'data': array([[0, 0, 0, ..., 0, 0, 0],\n",
       "        [0, 0, 0, ..., 0, 0, 0],\n",
       "        [0, 0, 0, ..., 0, 0, 0],\n",
       "        ..., \n",
       "        [0, 0, 0, ..., 0, 0, 0],\n",
       "        [0, 0, 0, ..., 0, 0, 0],\n",
       "        [0, 0, 0, ..., 0, 0, 0]], dtype=uint8),\n",
       " 'target': array([ 0.,  0.,  0., ...,  9.,  9.,  9.])}"
      ]
     },
     "execution_count": 4,
     "metadata": {},
     "output_type": "execute_result"
    }
   ],
   "source": [
    "mnist"
   ]
  },
  {
   "cell_type": "code",
   "execution_count": 6,
   "metadata": {},
   "outputs": [
    {
     "data": {
      "text/plain": [
       "(70000, 784)"
      ]
     },
     "execution_count": 6,
     "metadata": {},
     "output_type": "execute_result"
    }
   ],
   "source": [
    "mnist.data.shape"
   ]
  },
  {
   "cell_type": "code",
   "execution_count": 5,
   "metadata": {},
   "outputs": [
    {
     "data": {
      "image/png": "[encoded data removed]",
      "text/plain": [
       "<matplotlib.figure.Figure at 0x2ce68b0bb38>"
      ]
     },
     "metadata": {},
     "output_type": "display_data"
    }
   ],
   "source": [
    "counter = 1\n",
    "for i in range(3):\n",
    "    for j in range(1, 6):\n",
    "        plt.subplot(3, 5, counter)\n",
    "        plt.imshow( mnist.data[ i * 8000 + j ].reshape((28, 28)),\n",
    "                    cmap=cm.Greys_r ) \n",
    "        plt.axis('off')\n",
    "        counter += 1\n",
    "plt.show() "
   ]
  },
  {
   "cell_type": "code",
   "execution_count": null,
   "metadata": {},
   "outputs": [
    {
     "name": "stdout",
     "output_type": "stream",
     "text": [
      "Fitting 3 folds for each of 30 candidates, totalling 90 fits\n"
     ]
    }
   ],
   "source": [
    "x, y = mnist.data, mnist.target\n",
    "x = x / 255.0*2 - 1\n",
    "x_train, x_test, y_train, y_test = train_test_split(x, y, random_state=11,\n",
    "                                                    test_size=0.25 )\n",
    "pipeline = Pipeline([\n",
    "    ('clf', SVC(kernel='rbf', gamma=0.01, C=100 ))\n",
    "])\n",
    "parameters = {\n",
    "    'clf__gamma': (0.01, 0.03, 0.1, 0.3, 1),\n",
    "    'clf__C': (0.1, 0.3, 1, 3, 10, 30)\n",
    "}\n",
    "grid_search = GridSearchCV(pipeline, parameters, n_jobs=2,\n",
    "                          verbose=1, scoring='accuracy' )\n",
    "grid_search.fit( x_train[:10000], y_train[:10000] )\n",
    "print( 'Best score: {:.3f}'.format( grid_search.best_score_ ) )\n",
    "print('Best parameters set:')\n",
    "best_parameters = grid_search.best_estimator_.get_params()\n",
    "for param_name in sorted( parameters.keys() ):\n",
    "    print( '{}:{}'.format(param_name, best_parameters[param_name] ) )\n",
    "predictions = grid_search.predict(x_test)\n",
    "print(classification_report(y_test, predictions) )"
   ]
  },
  {
   "cell_type": "markdown",
   "metadata": {},
   "source": [
    "上面的代码运行了几十分钟都没有结果，所以就不玩儿它了，主要是花在fit这步骤上了。"
   ]
  },
  {
   "cell_type": "markdown",
   "metadata": {},
   "source": [
    "## 分类自然图片"
   ]
  },
  {
   "cell_type": "code",
   "execution_count": null,
   "metadata": {
    "collapsed": true
   },
   "outputs": [],
   "source": [
    "# %load E:\\Python_learning\\natural_images_classification.py\n",
    "from sklearn.pipeline import Pipeline\n",
    "from sklearn.model_selection import train_test_split\n",
    "from sklearn.svm import SVC\n",
    "from sklearn.grid_search import GridSearchCV\n",
    "from sklearn.metrics import classification_report\n",
    "import os\n",
    "import numpy as np\n",
    "from PIL import Image\n",
    "\n",
    "x, y = [], []\n",
    "filepath = 'E:\\\\MySQL_data\\\\English\\\\Img\\\\GoodImg\\\\Bmp'\n",
    "for path, subdirs, files in os.walk( filepath):\n",
    "    for filename in files:\n",
    "        f = os.path.join( path, filename )\n",
    "        target = filename[3:filename.index('-')]\n",
    "        img = Image.open(f).convert('L').resize((30,30),\n",
    "            resample=Image.LANCZOS )\n",
    "        x.append( np.array(img).reshape(900, ) )\n",
    "        y.append( target )\n",
    "\n",
    "x = np.array(x)\n",
    "\n",
    "x_train, x_test, y_train, y_test = train_test_split(x, y, test_size=0.1,\n",
    "    random_state = 11 )\n",
    "pipeline = Pipeline([\n",
    "    ('clf', SVC(kernel='rbf', gamma=0.01, C=100))\n",
    "    ])\n",
    "parameters = {\n",
    "    'clf__gamma': (0.01, 0.03, 0.1, 0.3, 1),\n",
    "    'clf__C': (0.1, 0.3, 1, 3, 10, 30)\n",
    "}\n",
    "if __name__ == '__main__':\n",
    "    grid_search = GridSearchCV(pipeline, parameters, n_jobs=2,\n",
    "                              verbose=1, scoring='accuracy' )\n",
    "    grid_search.fit( x_train, y_train )\n",
    "    print( 'Best score: {:.3f}'.format( grid_search.best_score_ ) )\n",
    "    print('Best parameters set:')\n",
    "    best_parameters = grid_search.best_estimator_.get_params()\n",
    "    for param_name in sorted( parameters.keys() ):\n",
    "        print( '{}:{}'.format(param_name, best_parameters[param_name] ) )\n",
    "    predictions = grid_search.predict(x_test)\n",
    "    print(classification_report(y_test, predictions) )"
   ]
  }
 ],
 "metadata": {
  "kernelspec": {
   "display_name": "Python 3",
   "language": "python",
   "name": "python3"
  },
  "language_info": {
   "codemirror_mode": {
    "name": "ipython",
    "version": 3
   },
   "file_extension": ".py",
   "mimetype": "text/x-python",
   "name": "python",
   "nbconvert_exporter": "python",
   "pygments_lexer": "ipython3",
   "version": "3.5.4"
  }
 },
 "nbformat": 4,
 "nbformat_minor": 2
}
