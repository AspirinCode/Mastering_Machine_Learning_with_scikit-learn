{
 "cells": [
  {
   "cell_type": "code",
   "execution_count": 59,
   "metadata": {},
   "outputs": [
    {
     "name": "stderr",
     "output_type": "stream",
     "text": [
      "E:\\miniconda\\envs\\course_py35\\lib\\site-packages\\sklearn\\cross_validation.py:41: DeprecationWarning: This module was deprecated in version 0.18 in favor of the model_selection module into which all the refactored classes and functions are moved. Also note that the interface of the new CV iterators are different from that of this module. This module will be removed in 0.20.\n",
      "  \"This module will be removed in 0.20.\", DeprecationWarning)\n"
     ]
    }
   ],
   "source": [
    "import numpy as np\n",
    "import matplotlib.pyplot as plt\n",
    "from sklearn.decomposition import PCA\n",
    "from sklearn.datasets import load_iris\n",
    "import os\n",
    "from sklearn.cross_validation import train_test_split\n",
    "from sklearn.cross_validation import cross_val_score\n",
    "from sklearn.preprocessing import scale\n",
    "from sklearn.linear_model import LogisticRegression\n",
    "from sklearn.metrics import classification_report\n",
    "from PIL import Image"
   ]
  },
  {
   "cell_type": "markdown",
   "metadata": {
    "heading_collapsed": true
   },
   "source": [
    "## Visiualizing high-dimensional data with PCA"
   ]
  },
  {
   "cell_type": "code",
   "execution_count": 2,
   "metadata": {
    "collapsed": true,
    "hidden": true
   },
   "outputs": [],
   "source": [
    "x = np.array([\n",
    "    [2, 0, -1.4],\n",
    "    [2.2, 0.2, -1.5],\n",
    "    [2.4, 0.1, -1],\n",
    "    [1.9, 0, -1.2]\n",
    "])"
   ]
  },
  {
   "cell_type": "code",
   "execution_count": 9,
   "metadata": {
    "hidden": true
   },
   "outputs": [
    {
     "data": {
      "text/plain": [
       "array([[ 0.04916667,  0.01416667,  0.01916667],\n",
       "       [ 0.01416667,  0.00916667, -0.00583333],\n",
       "       [ 0.01916667, -0.00583333,  0.04916667]])"
      ]
     },
     "execution_count": 9,
     "metadata": {},
     "output_type": "execute_result"
    }
   ],
   "source": [
    "np.cov(x, rowvar=False)"
   ]
  },
  {
   "cell_type": "code",
   "execution_count": 28,
   "metadata": {
    "hidden": true
   },
   "outputs": [
    {
     "data": {
      "text/plain": [
       "array([[ 0.9,  1. ],\n",
       "       [ 2.4,  2.6],\n",
       "       [ 1.2,  1.7],\n",
       "       [ 0.5,  0.7],\n",
       "       [ 0.3,  0.7],\n",
       "       [ 1.8,  1.4],\n",
       "       [ 0.5,  0.6],\n",
       "       [ 0.3,  0.6],\n",
       "       [ 2.5,  2.6],\n",
       "       [ 1.3,  1.1]])"
      ]
     },
     "execution_count": 28,
     "metadata": {},
     "output_type": "execute_result"
    }
   ],
   "source": [
    "x = np.array([\n",
    "    [0.9, 1], [2.4, 2.6], [1.2, 1.7], [0.5, 0.7], [0.3, 0.7], [1.8, 1.4],\n",
    "    [0.5, 0.6], [0.3, 0.6],[2.5, 2.6], [1.3, 1.1]\n",
    "])\n",
    "x"
   ]
  },
  {
   "cell_type": "code",
   "execution_count": 20,
   "metadata": {
    "hidden": true
   },
   "outputs": [
    {
     "data": {
      "text/plain": [
       "array([[-0.27, -0.3 ],\n",
       "       [ 1.23,  1.3 ],\n",
       "       [ 0.03,  0.4 ],\n",
       "       [-0.67, -0.6 ],\n",
       "       [-0.87, -0.6 ],\n",
       "       [ 0.63,  0.1 ],\n",
       "       [-0.67, -0.7 ],\n",
       "       [-0.87, -0.7 ],\n",
       "       [ 1.33,  1.3 ],\n",
       "       [ 0.13, -0.2 ]])"
      ]
     },
     "execution_count": 20,
     "metadata": {},
     "output_type": "execute_result"
    }
   ],
   "source": [
    "x2 = x - np.array([1.17, 1.3])\n",
    "x2"
   ]
  },
  {
   "cell_type": "code",
   "execution_count": 24,
   "metadata": {
    "hidden": true
   },
   "outputs": [
    {
     "data": {
      "text/plain": [
       "array([[ 0.68677778,  0.60666667],\n",
       "       [ 0.60666667,  0.59777778]])"
      ]
     },
     "execution_count": 24,
     "metadata": {},
     "output_type": "execute_result"
    }
   ],
   "source": [
    "x3 = np.cov(x, rowvar=False ) # 计算协方差\n",
    "x3"
   ]
  },
  {
   "cell_type": "code",
   "execution_count": 37,
   "metadata": {
    "hidden": true
   },
   "outputs": [
    {
     "name": "stdout",
     "output_type": "stream",
     "text": [
      "[ 1.25057433  0.03398123]\n",
      "[[ 0.73251454 -0.68075138]\n",
      " [ 0.68075138  0.73251454]]\n"
     ]
    }
   ],
   "source": [
    "w, v = np.linalg.eig( x3 )\n",
    "print(w)\n",
    "print(v)"
   ]
  },
  {
   "cell_type": "code",
   "execution_count": 53,
   "metadata": {
    "hidden": true
   },
   "outputs": [
    {
     "data": {
      "text/plain": [
       "array([[-0.40200434],\n",
       "       [ 1.78596968],\n",
       "       [ 0.29427599],\n",
       "       [-0.89923557],\n",
       "       [-1.04573848],\n",
       "       [ 0.5295593 ],\n",
       "       [-0.96731071],\n",
       "       [-1.11381362],\n",
       "       [ 1.85922114],\n",
       "       [-0.04092339]])"
      ]
     },
     "execution_count": 53,
     "metadata": {},
     "output_type": "execute_result"
    }
   ],
   "source": [
    "np.dot(x2, v[:, 0].reshape(2, -1) )"
   ]
  },
  {
   "cell_type": "code",
   "execution_count": 58,
   "metadata": {
    "hidden": true
   },
   "outputs": [
    {
     "data": {
      "image/png": "[encoded data removed]",
      "text/plain": [
       "<matplotlib.figure.Figure at 0x1f837fa2e80>"
      ]
     },
     "metadata": {},
     "output_type": "display_data"
    }
   ],
   "source": [
    "data = load_iris()\n",
    "y = data.target\n",
    "x = data.data\n",
    "pca = PCA( n_components=2 )\n",
    "reduced_x = pca.fit_transform(x)\n",
    "red_x = red_y = []\n",
    "blue_x, blue_y = [], []\n",
    "green_x, green_y = [], []\n",
    "for i in range( len(reduced_x) ):\n",
    "    if y[i] == 0:\n",
    "        red_x.append( reduced_x[i][0] )\n",
    "        red_y.append( reduced_x[i][1] )\n",
    "    elif y[i] == 1:\n",
    "        blue_x.append( reduced_x[i][0] )\n",
    "        blue_y.append( reduced_x[i][1] )\n",
    "    else:\n",
    "        green_x.append( reduced_x[i][0] )\n",
    "        green_y.append( reduced_x[i][1] )\n",
    "\n",
    "plt.scatter( red_x, red_y, c='r', marker='x' )\n",
    "plt.scatter( blue_x, blue_y, c='b', marker='D' )\n",
    "plt.scatter( green_x, green_y, c='g', marker='.' )\n",
    "plt.show()"
   ]
  },
  {
   "cell_type": "markdown",
   "metadata": {},
   "source": [
    "## face recognition with PCA"
   ]
  },
  {
   "cell_type": "code",
   "execution_count": 62,
   "metadata": {},
   "outputs": [],
   "source": [
    "x, y = [], []\n",
    "for dirpath, _, filenames in os.walk( 'E:\\\\MySQL_data\\\\orl_faces'):\n",
    "    for filename in filenames:\n",
    "        if filename[-3:] == 'pgm':\n",
    "            img = Image.open( os.path.join( dirpath, filename)).convert('L')\n",
    "            arr = np.array(img).reshape(10304).astype('float32') / 255.\n",
    "            x.append( arr)\n",
    "            y.append( dirpath )"
   ]
  },
  {
   "cell_type": "code",
   "execution_count": 63,
   "metadata": {
    "collapsed": true
   },
   "outputs": [],
   "source": [
    "x = scale(x)"
   ]
  },
  {
   "cell_type": "code",
   "execution_count": 64,
   "metadata": {
    "collapsed": true
   },
   "outputs": [],
   "source": [
    "x_train, x_test, y_train, y_test = train_test_split(x, y, test_size=0.25)\n",
    "pca = PCA(n_components=150)"
   ]
  },
  {
   "cell_type": "code",
   "execution_count": null,
   "metadata": {
    "collapsed": true
   },
   "outputs": [],
   "source": [
    "x_train_reduced = pca.fit_transform(x_train)\n",
    "x_test_reduced = pca.transform(x_test)\n",
    "print( x_train.shape )\n",
    "print( x_train_reduced.shape )\n",
    "lgr = LogisticRegression()\n",
    "accuracies = cross_val_score( lgr, x_train_reduced, y_train )\n",
    "print( 'Cross validation accuracy: {}'.format(accuracies.mean()) )"
   ]
  },
  {
   "cell_type": "code",
   "execution_count": 67,
   "metadata": {},
   "outputs": [
    {
     "name": "stdout",
     "output_type": "stream",
     "text": [
      "                             precision    recall  f1-score   support\n",
      "\n",
      " E:\\MySQL_data\\orl_faces\\s1       1.00      1.00      1.00         2\n",
      "E:\\MySQL_data\\orl_faces\\s10       1.00      1.00      1.00         4\n",
      "E:\\MySQL_data\\orl_faces\\s11       1.00      1.00      1.00         1\n",
      "E:\\MySQL_data\\orl_faces\\s13       1.00      1.00      1.00         4\n",
      "E:\\MySQL_data\\orl_faces\\s14       1.00      1.00      1.00         2\n",
      "E:\\MySQL_data\\orl_faces\\s15       1.00      1.00      1.00         2\n",
      "E:\\MySQL_data\\orl_faces\\s16       1.00      0.60      0.75         5\n",
      "E:\\MySQL_data\\orl_faces\\s17       1.00      1.00      1.00         1\n",
      "E:\\MySQL_data\\orl_faces\\s18       1.00      1.00      1.00         2\n",
      "E:\\MySQL_data\\orl_faces\\s19       1.00      1.00      1.00         2\n",
      " E:\\MySQL_data\\orl_faces\\s2       1.00      1.00      1.00         3\n",
      "E:\\MySQL_data\\orl_faces\\s20       1.00      1.00      1.00         5\n",
      "E:\\MySQL_data\\orl_faces\\s21       1.00      1.00      1.00         3\n",
      "E:\\MySQL_data\\orl_faces\\s22       1.00      1.00      1.00         4\n",
      "E:\\MySQL_data\\orl_faces\\s23       0.80      1.00      0.89         4\n",
      "E:\\MySQL_data\\orl_faces\\s24       1.00      1.00      1.00         3\n",
      "E:\\MySQL_data\\orl_faces\\s25       1.00      1.00      1.00         2\n",
      "E:\\MySQL_data\\orl_faces\\s26       1.00      1.00      1.00         1\n",
      "E:\\MySQL_data\\orl_faces\\s27       0.50      1.00      0.67         2\n",
      "E:\\MySQL_data\\orl_faces\\s28       1.00      1.00      1.00         4\n",
      "E:\\MySQL_data\\orl_faces\\s29       1.00      1.00      1.00         3\n",
      " E:\\MySQL_data\\orl_faces\\s3       1.00      1.00      1.00         2\n",
      "E:\\MySQL_data\\orl_faces\\s30       1.00      1.00      1.00         1\n",
      "E:\\MySQL_data\\orl_faces\\s31       1.00      1.00      1.00         3\n",
      "E:\\MySQL_data\\orl_faces\\s32       1.00      1.00      1.00         3\n",
      "E:\\MySQL_data\\orl_faces\\s33       1.00      0.75      0.86         4\n",
      "E:\\MySQL_data\\orl_faces\\s34       1.00      1.00      1.00         3\n",
      "E:\\MySQL_data\\orl_faces\\s35       1.00      1.00      1.00         1\n",
      "E:\\MySQL_data\\orl_faces\\s36       1.00      0.50      0.67         2\n",
      "E:\\MySQL_data\\orl_faces\\s37       1.00      1.00      1.00         4\n",
      "E:\\MySQL_data\\orl_faces\\s38       1.00      1.00      1.00         3\n",
      "E:\\MySQL_data\\orl_faces\\s39       1.00      1.00      1.00         3\n",
      " E:\\MySQL_data\\orl_faces\\s4       1.00      1.00      1.00         1\n",
      " E:\\MySQL_data\\orl_faces\\s5       1.00      1.00      1.00         3\n",
      " E:\\MySQL_data\\orl_faces\\s6       1.00      1.00      1.00         3\n",
      " E:\\MySQL_data\\orl_faces\\s7       0.67      1.00      0.80         2\n",
      " E:\\MySQL_data\\orl_faces\\s8       1.00      1.00      1.00         1\n",
      " E:\\MySQL_data\\orl_faces\\s9       1.00      1.00      1.00         2\n",
      "\n",
      "                avg / total       0.98      0.96      0.96       100\n",
      "\n"
     ]
    }
   ],
   "source": [
    "lgr.fit( x_train_reduced, y_train )\n",
    "predictions = lgr.predict( x_test_reduced )\n",
    "print( classification_report(y_test, predictions) )"
   ]
  }
 ],
 "metadata": {
  "kernelspec": {
   "display_name": "Python 3",
   "language": "python",
   "name": "python3"
  },
  "language_info": {
   "codemirror_mode": {
    "name": "ipython",
    "version": 3
   },
   "file_extension": ".py",
   "mimetype": "text/x-python",
   "name": "python",
   "nbconvert_exporter": "python",
   "pygments_lexer": "ipython3",
   "version": "3.5.4"
  }
 },
 "nbformat": 4,
 "nbformat_minor": 2
}
