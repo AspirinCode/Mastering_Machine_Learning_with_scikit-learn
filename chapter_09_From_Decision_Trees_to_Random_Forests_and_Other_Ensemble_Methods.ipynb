{
 "cells": [
  {
   "cell_type": "code",
   "execution_count": 22,
   "metadata": {
    "collapsed": true
   },
   "outputs": [],
   "source": [
    "import numpy as np\n",
    "from sklearn.tree import DecisionTreeClassifier\n",
    "from sklearn.ensemble import RandomForestClassifier\n",
    "from sklearn.datasets import make_classification\n",
    "from sklearn.model_selection import train_test_split\n",
    "from sklearn.metrics import classification_report\n",
    "from sklearn.ensemble import AdaBoostClassifier\n",
    "from sklearn.neighbors import KNeighborsClassifier\n",
    "from sklearn.linear_model import LogisticRegression\n",
    "from sklearn.base import clone, BaseEstimator, TransformerMixin, ClassifierMixin\n",
    "import matplotlib.pyplot as plt\n",
    "%matplotlib inline"
   ]
  },
  {
   "cell_type": "markdown",
   "metadata": {},
   "source": [
    "## bagging"
   ]
  },
  {
   "cell_type": "code",
   "execution_count": 6,
   "metadata": {},
   "outputs": [
    {
     "name": "stdout",
     "output_type": "stream",
     "text": [
      "Original sample:  [48 66 84 65 65 65 89 89 83 83]\n",
      "Sample mean:  73.7\n",
      "Number of bootstrap re-samples:  100\n",
      "Example re-sample:  [65 65 89 65 83 65 48 83 65 83]\n",
      "Mean of re-samples's means:  74.047\n"
     ]
    }
   ],
   "source": [
    "sample = np.random.randint( 1, 100, size=10 )\n",
    "print('Original sample: ', sample )\n",
    "print(\"Sample mean: \", sample.mean() )\n",
    "resamples = [np.random.choice( sample, size=sample.shape ) for i in range(100) ]\n",
    "# list, 里面有100个array数据，每个数据中有10个数字, 每个数字都是随机从sample中抽选出来的\n",
    "print(\"Number of bootstrap re-samples: \", len(resamples) )\n",
    "print('Example re-sample: ', resamples[0] )\n",
    "resample_means = np.array([ resample.mean() for resample in resamples ])\n",
    "print('Mean of re-samples\\'s means: ', resample_means.mean() )\n",
    "# 对比样本的平均值和重抽样之后的平均值"
   ]
  },
  {
   "cell_type": "code",
   "execution_count": 10,
   "metadata": {},
   "outputs": [
    {
     "name": "stdout",
     "output_type": "stream",
     "text": [
      "             precision    recall  f1-score   support\n",
      "\n",
      "          0       0.73      0.66      0.69       127\n",
      "          1       0.68      0.75      0.71       123\n",
      "\n",
      "avg / total       0.71      0.70      0.70       250\n",
      "\n"
     ]
    }
   ],
   "source": [
    "x, y = make_classification(n_samples=1000, n_features=100, \n",
    "                           n_informative=20, n_clusters_per_class=2,\n",
    "                           random_state = 11 )\n",
    "x_train, x_test, y_train, y_test = train_test_split(x, y, random_state=11 )\n",
    "clf = DecisionTreeClassifier( random_state=11 )\n",
    "clf.fit( x_train, y_train )\n",
    "predictions = clf.predict( x_test)\n",
    "print( classification_report(y_test, predictions) )"
   ]
  },
  {
   "cell_type": "code",
   "execution_count": 13,
   "metadata": {},
   "outputs": [
    {
     "name": "stdout",
     "output_type": "stream",
     "text": [
      "             precision    recall  f1-score   support\n",
      "\n",
      "          0       0.74      0.83      0.79       127\n",
      "          1       0.80      0.70      0.75       123\n",
      "\n",
      "avg / total       0.77      0.77      0.77       250\n",
      "\n"
     ]
    }
   ],
   "source": [
    "rfc = RandomForestClassifier( n_estimators=10, random_state=11 )\n",
    "rfc.fit(x_train, y_train )\n",
    "predictions = rfc.predict(x_test)\n",
    "print(classification_report(y_test, predictions) )"
   ]
  },
  {
   "cell_type": "markdown",
   "metadata": {},
   "source": [
    "## Boosting"
   ]
  },
  {
   "cell_type": "code",
   "execution_count": 16,
   "metadata": {},
   "outputs": [
    {
     "name": "stdout",
     "output_type": "stream",
     "text": [
      "Decision tree accuracy:  0.688\n"
     ]
    }
   ],
   "source": [
    "x, y = make_classification( n_samples=1000, n_features=50, \n",
    "                           n_informative=30, n_clusters_per_class=3,\n",
    "                          random_state=11 )\n",
    "x_train, x_test, y_train, y_test = train_test_split(x, y, random_state=11 )\n",
    "dtc = DecisionTreeClassifier( random_state=11 )\n",
    "dtc.fit( x_train, y_train )\n",
    "print('Decision tree accuracy: ', dtc.score(x_test, y_test) )"
   ]
  },
  {
   "cell_type": "code",
   "execution_count": 17,
   "metadata": {},
   "outputs": [
    {
     "data": {
      "text/plain": [
       "AdaBoostClassifier(algorithm='SAMME.R', base_estimator=None,\n",
       "          learning_rate=1.0, n_estimators=50, random_state=11)"
      ]
     },
     "execution_count": 17,
     "metadata": {},
     "output_type": "execute_result"
    }
   ],
   "source": [
    "adabc = AdaBoostClassifier( n_estimators=50, random_state=11 )\n",
    "adabc.fit( x_train, y_train )"
   ]
  },
  {
   "cell_type": "code",
   "execution_count": 21,
   "metadata": {},
   "outputs": [
    {
     "data": {
      "text/plain": [
       "[<matplotlib.lines.Line2D at 0x25b60448a58>]"
      ]
     },
     "execution_count": 21,
     "metadata": {},
     "output_type": "execute_result"
    },
    {
     "data": {
      "image/png": "[encoded data removed]",
      "text/plain": [
       "<matplotlib.figure.Figure at 0x25b604487b8>"
      ]
     },
     "metadata": {},
     "output_type": "display_data"
    }
   ],
   "source": [
    "plt.xlabel('num of estimators')\n",
    "plt.ylabel('Accuracy')\n",
    "plt.title('Ensemble Accuracy')\n",
    "plt.plot( range(1,51), list(adabc.staged_score( x_test, y_test) ))\n",
    "# 从下图可以看出，随着预测器数量的增加，集成学习器的表现越来越好"
   ]
  },
  {
   "cell_type": "markdown",
   "metadata": {},
   "source": [
    "## Stacking"
   ]
  },
  {
   "cell_type": "code",
   "execution_count": 23,
   "metadata": {},
   "outputs": [
    {
     "name": "stdout",
     "output_type": "stream",
     "text": [
      "Logistic regression accuracy:  0.816\n",
      "KNN accuracy:  0.836\n",
      "Stacking claffifier accuracy:  0.852\n"
     ]
    }
   ],
   "source": [
    "class StackingClassifier( BaseEstimator, ClassifierMixin, TransformerMixin ):\n",
    "    \n",
    "    def __init__( self, classifiers ):\n",
    "        self.classifiers = classifiers\n",
    "        self.meta_classifier = DecisionTreeClassifier()\n",
    "    \n",
    "    def fit(self, x, y ):\n",
    "        for clf in self.classifiers:\n",
    "            clf.fit(x, y)\n",
    "        self.meta_classifier.fit( self._get_meta_features(x), y)\n",
    "        return self\n",
    "    \n",
    "    def _get_meta_features( self, x):\n",
    "        probas = np.asarray([ clf.predict_proba(x) for clf in \n",
    "                             self.classifiers ])\n",
    "        return np.concatenate( probas, axis=1 )\n",
    "    \n",
    "    def predict( self, x):\n",
    "        return self.meta_classifier.predict(self._get_meta_features(x) )\n",
    "    \n",
    "    \n",
    "x, y = make_classification(n_samples = 1000, n_features = 50,\n",
    "                           n_informative = 30, n_clusters_per_class = 3,\n",
    "                           random_state = 11 )\n",
    "x_train, x_test, y_train, y_test = train_test_split(x, y, random_state=11 )\n",
    "lgr = LogisticRegression()\n",
    "lgr.fit( x_train, y_train )\n",
    "print('Logistic regression accuracy: ', lgr.score(x_test, y_test ) )\n",
    "knnc = KNeighborsClassifier()\n",
    "knnc.fit(x_train, y_train )\n",
    "print('KNN accuracy: ', knnc.score(x_test, y_test) )\n",
    "\n",
    "base_classifiers = [lgr, knnc]\n",
    "stacking_clf = StackingClassifier( base_classifiers )\n",
    "stacking_clf.fit(x_train, y_train )\n",
    "print('Stacking claffifier accuracy: ', stacking_clf.score(x_test, y_test))\n",
    "# 同样的两个模型集成起来就比单独的好"
   ]
  }
 ],
 "metadata": {
  "kernelspec": {
   "display_name": "Python 3",
   "language": "python",
   "name": "python3"
  },
  "language_info": {
   "codemirror_mode": {
    "name": "ipython",
    "version": 3
   },
   "file_extension": ".py",
   "mimetype": "text/x-python",
   "name": "python",
   "nbconvert_exporter": "python",
   "pygments_lexer": "ipython3",
   "version": "3.5.4"
  }
 },
 "nbformat": 4,
 "nbformat_minor": 2
}
